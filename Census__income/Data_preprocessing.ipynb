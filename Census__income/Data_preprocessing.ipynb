{
 "cells": [
  {
   "cell_type": "markdown",
   "metadata": {},
   "source": [
    "First we will import somme library and read dataset"
   ]
  },
  {
   "cell_type": "code",
   "execution_count": 1,
   "metadata": {},
   "outputs": [],
   "source": [
    "import numpy as np\n",
    "import pandas as pd\n",
    "import matplotlib.pyplot as plt"
   ]
  },
  {
   "cell_type": "code",
   "execution_count": 2,
   "metadata": {},
   "outputs": [
    {
     "data": {
      "text/html": [
       "<div>\n",
       "<style scoped>\n",
       "    .dataframe tbody tr th:only-of-type {\n",
       "        vertical-align: middle;\n",
       "    }\n",
       "\n",
       "    .dataframe tbody tr th {\n",
       "        vertical-align: top;\n",
       "    }\n",
       "\n",
       "    .dataframe thead th {\n",
       "        text-align: right;\n",
       "    }\n",
       "</style>\n",
       "<table border=\"1\" class=\"dataframe\">\n",
       "  <thead>\n",
       "    <tr style=\"text-align: right;\">\n",
       "      <th></th>\n",
       "      <th>Age</th>\n",
       "      <th>Workclass</th>\n",
       "      <th>Education</th>\n",
       "      <th>Marital-status</th>\n",
       "      <th>Occupation</th>\n",
       "      <th>Relationship</th>\n",
       "      <th>Race</th>\n",
       "      <th>Gender</th>\n",
       "      <th>Capital-gain</th>\n",
       "      <th>Capital-loss</th>\n",
       "      <th>Hours-per-week</th>\n",
       "      <th>Native-country</th>\n",
       "      <th>Income</th>\n",
       "    </tr>\n",
       "  </thead>\n",
       "  <tbody>\n",
       "    <tr>\n",
       "      <th>0</th>\n",
       "      <td>39</td>\n",
       "      <td>State-gov</td>\n",
       "      <td>Bachelors</td>\n",
       "      <td>Never-married</td>\n",
       "      <td>Adm-clerical</td>\n",
       "      <td>Not-in-family</td>\n",
       "      <td>White</td>\n",
       "      <td>Male</td>\n",
       "      <td>2174</td>\n",
       "      <td>0</td>\n",
       "      <td>40</td>\n",
       "      <td>United-States</td>\n",
       "      <td>&lt;=50K</td>\n",
       "    </tr>\n",
       "    <tr>\n",
       "      <th>1</th>\n",
       "      <td>50</td>\n",
       "      <td>Self-emp-not-inc</td>\n",
       "      <td>Bachelors</td>\n",
       "      <td>Married-civ-spouse</td>\n",
       "      <td>Exec-managerial</td>\n",
       "      <td>Husband</td>\n",
       "      <td>White</td>\n",
       "      <td>Male</td>\n",
       "      <td>0</td>\n",
       "      <td>0</td>\n",
       "      <td>13</td>\n",
       "      <td>United-States</td>\n",
       "      <td>&lt;=50K</td>\n",
       "    </tr>\n",
       "    <tr>\n",
       "      <th>2</th>\n",
       "      <td>38</td>\n",
       "      <td>Private</td>\n",
       "      <td>HS-grad</td>\n",
       "      <td>Divorced</td>\n",
       "      <td>Handlers-cleaners</td>\n",
       "      <td>Not-in-family</td>\n",
       "      <td>White</td>\n",
       "      <td>Male</td>\n",
       "      <td>0</td>\n",
       "      <td>0</td>\n",
       "      <td>40</td>\n",
       "      <td>United-States</td>\n",
       "      <td>&lt;=50K</td>\n",
       "    </tr>\n",
       "    <tr>\n",
       "      <th>3</th>\n",
       "      <td>53</td>\n",
       "      <td>Private</td>\n",
       "      <td>11th</td>\n",
       "      <td>Married-civ-spouse</td>\n",
       "      <td>Handlers-cleaners</td>\n",
       "      <td>Husband</td>\n",
       "      <td>Black</td>\n",
       "      <td>Male</td>\n",
       "      <td>0</td>\n",
       "      <td>0</td>\n",
       "      <td>40</td>\n",
       "      <td>United-States</td>\n",
       "      <td>&lt;=50K</td>\n",
       "    </tr>\n",
       "    <tr>\n",
       "      <th>4</th>\n",
       "      <td>28</td>\n",
       "      <td>Private</td>\n",
       "      <td>Bachelors</td>\n",
       "      <td>Married-civ-spouse</td>\n",
       "      <td>Prof-specialty</td>\n",
       "      <td>Wife</td>\n",
       "      <td>Black</td>\n",
       "      <td>Female</td>\n",
       "      <td>0</td>\n",
       "      <td>0</td>\n",
       "      <td>40</td>\n",
       "      <td>Cuba</td>\n",
       "      <td>&lt;=50K</td>\n",
       "    </tr>\n",
       "  </tbody>\n",
       "</table>\n",
       "</div>"
      ],
      "text/plain": [
       "   Age          Workclass   Education       Marital-status  \\\n",
       "0   39          State-gov   Bachelors        Never-married   \n",
       "1   50   Self-emp-not-inc   Bachelors   Married-civ-spouse   \n",
       "2   38            Private     HS-grad             Divorced   \n",
       "3   53            Private        11th   Married-civ-spouse   \n",
       "4   28            Private   Bachelors   Married-civ-spouse   \n",
       "\n",
       "           Occupation    Relationship    Race   Gender   Capital-gain  \\\n",
       "0        Adm-clerical   Not-in-family   White     Male           2174   \n",
       "1     Exec-managerial         Husband   White     Male              0   \n",
       "2   Handlers-cleaners   Not-in-family   White     Male              0   \n",
       "3   Handlers-cleaners         Husband   Black     Male              0   \n",
       "4      Prof-specialty            Wife   Black   Female              0   \n",
       "\n",
       "    Capital-loss   Hours-per-week  Native-country  Income  \n",
       "0              0               40   United-States   <=50K  \n",
       "1              0               13   United-States   <=50K  \n",
       "2              0               40   United-States   <=50K  \n",
       "3              0               40   United-States   <=50K  \n",
       "4              0               40            Cuba   <=50K  "
      ]
     },
     "execution_count": 2,
     "metadata": {},
     "output_type": "execute_result"
    }
   ],
   "source": [
    "df = pd.read_csv(\"income data.csv\")\n",
    "df.head(5)"
   ]
  },
  {
   "cell_type": "markdown",
   "metadata": {},
   "source": [
    "We will do some overview of dataset"
   ]
  },
  {
   "cell_type": "code",
   "execution_count": 3,
   "metadata": {},
   "outputs": [
    {
     "data": {
      "text/plain": [
       "(32561, 13)"
      ]
     },
     "execution_count": 3,
     "metadata": {},
     "output_type": "execute_result"
    }
   ],
   "source": [
    "df.shape"
   ]
  },
  {
   "cell_type": "markdown",
   "metadata": {},
   "source": [
    "we has 32561 observations and the number of variable is 13"
   ]
  },
  {
   "cell_type": "code",
   "execution_count": 4,
   "metadata": {},
   "outputs": [
    {
     "name": "stdout",
     "output_type": "stream",
     "text": [
      "columns Age has 73 levels\n",
      "[39 50 38 53 28 37 49 52 31 42 30 23 32 40 34 25 43 54 35 59 56 19 20 45\n",
      " 22 48 21 24 57 44 41 29 18 47 46 36 79 27 67 33 76 17 55 61 70 64 71 68\n",
      " 66 51 58 26 60 90 75 65 77 62 63 80 72 74 69 73 81 78 88 82 83 84 85 86\n",
      " 87]\n",
      "columns  Workclass has 9 levels\n",
      "[' State-gov' ' Self-emp-not-inc' ' Private' ' Federal-gov' ' Local-gov'\n",
      " ' ?' ' Self-emp-inc' ' Without-pay' ' Never-worked']\n",
      "columns  Education has 16 levels\n",
      "[' Bachelors' ' HS-grad' ' 11th' ' Masters' ' 9th' ' Some-college'\n",
      " ' Assoc-acdm' ' Assoc-voc' ' 7th-8th' ' Doctorate' ' Prof-school'\n",
      " ' 5th-6th' ' 10th' ' 1st-4th' ' Preschool' ' 12th']\n",
      "columns  Marital-status has 7 levels\n",
      "[' Never-married' ' Married-civ-spouse' ' Divorced'\n",
      " ' Married-spouse-absent' ' Separated' ' Married-AF-spouse' ' Widowed']\n",
      "columns  Occupation has 15 levels\n",
      "[' Adm-clerical' ' Exec-managerial' ' Handlers-cleaners' ' Prof-specialty'\n",
      " ' Other-service' ' Sales' ' Craft-repair' ' Transport-moving'\n",
      " ' Farming-fishing' ' Machine-op-inspct' ' Tech-support' ' ?'\n",
      " ' Protective-serv' ' Armed-Forces' ' Priv-house-serv']\n",
      "columns  Relationship has 6 levels\n",
      "[' Not-in-family' ' Husband' ' Wife' ' Own-child' ' Unmarried'\n",
      " ' Other-relative']\n",
      "columns  Race has 5 levels\n",
      "[' White' ' Black' ' Asian-Pac-Islander' ' Amer-Indian-Eskimo' ' Other']\n",
      "columns  Gender has 2 levels\n",
      "[' Male' ' Female']\n",
      "columns  Capital-gain has 119 levels\n",
      "[ 2174     0 14084  5178  5013  2407 14344 15024  7688 34095  4064  4386\n",
      "  7298  1409  3674  1055  3464  2050  2176   594 20051  6849  4101  1111\n",
      "  8614  3411  2597 25236  4650  9386  2463  3103 10605  2964  3325  2580\n",
      "  3471  4865 99999  6514  1471  2329  2105  2885 25124 10520  2202  2961\n",
      " 27828  6767  2228  1506 13550  2635  5556  4787  3781  3137  3818  3942\n",
      "   914   401  2829  2977  4934  2062  2354  5455 15020  1424  3273 22040\n",
      "  4416  3908 10566   991  4931  1086  7430  6497   114  7896  2346  3418\n",
      "  3432  2907  1151  2414  2290 15831 41310  4508  2538  3456  6418  1848\n",
      "  3887  5721  9562  1455  2036  1831 11678  2936  2993  7443  6360  1797\n",
      "  1173  4687  6723  2009  6097  2653  1639 18481  7978  2387  5060]\n",
      "columns  Capital-loss has 92 levels\n",
      "[   0 2042 1408 1902 1573 1887 1719 1762 1564 2179 1816 1980 1977 1876\n",
      " 1340 2206 1741 1485 2339 2415 1380 1721 2051 2377 1669 2352 1672  653\n",
      " 2392 1504 2001 1590 1651 1628 1848 1740 2002 1579 2258 1602  419 2547\n",
      " 2174 2205 1726 2444 1138 2238  625  213 1539  880 1668 1092 1594 3004\n",
      " 2231 1844  810 2824 2559 2057 1974  974 2149 1825 1735 1258 2129 2603\n",
      " 2282  323 4356 2246 1617 1648 2489 3770 1755 3683 2267 2080 2457  155\n",
      " 3900 2201 1944 2467 2163 2754 2472 1411]\n",
      "columns  Hours-per-week has 94 levels\n",
      "[40 13 16 45 50 80 30 35 60 20 52 44 15 25 38 43 55 48 58 32 70  2 22 56\n",
      " 41 28 36 24 46 42 12 65  1 10 34 75 98 33 54  8  6 64 19 18 72  5  9 47\n",
      " 37 21 26 14  4 59  7 99 53 39 62 57 78 90 66 11 49 84  3 17 68 27 85 31\n",
      " 51 77 63 23 87 88 73 89 97 94 29 96 67 82 86 91 81 76 92 61 74 95]\n",
      "columns  Native-country has 42 levels\n",
      "[' United-States' ' Cuba' ' Jamaica' ' India' ' ?' ' Mexico' ' South'\n",
      " ' Puerto-Rico' ' Honduras' ' England' ' Canada' ' Germany' ' Iran'\n",
      " ' Philippines' ' Italy' ' Poland' ' Columbia' ' Cambodia' ' Thailand'\n",
      " ' Ecuador' ' Laos' ' Taiwan' ' Haiti' ' Portugal' ' Dominican-Republic'\n",
      " ' El-Salvador' ' France' ' Guatemala' ' China' ' Japan' ' Yugoslavia'\n",
      " ' Peru' ' Outlying-US(Guam-USVI-etc)' ' Scotland' ' Trinadad&Tobago'\n",
      " ' Greece' ' Nicaragua' ' Vietnam' ' Hong' ' Ireland' ' Hungary'\n",
      " ' Holand-Netherlands']\n",
      "columns  Income has 2 levels\n",
      "[' <=50K' ' >50K']\n"
     ]
    }
   ],
   "source": [
    "for col in df:\n",
    "    print(\"columns \" + str(col) + \" has \" + str(len(df[col].unique())) + \" levels\")\n",
    "    print(df[col].unique())"
   ]
  },
  {
   "cell_type": "markdown",
   "metadata": {},
   "source": [
    "We can see that \"age\", \"capital_gain\", \"capital_loss\" and \"hours_per_week\" are type integer whereas all the other variables are factor variables with different number. We see that some columns have a level denoted by \"?\" are missing value"
   ]
  },
  {
   "cell_type": "markdown",
   "metadata": {},
   "source": [
    "* Cleaning missing values"
   ]
  },
  {
   "cell_type": "code",
   "execution_count": 5,
   "metadata": {},
   "outputs": [
    {
     "data": {
      "text/plain": [
       "Index(['Age', ' Workclass', ' Education', ' Marital-status', ' Occupation',\n",
       "       ' Relationship', ' Race', ' Gender', ' Capital-gain', ' Capital-loss',\n",
       "       ' Hours-per-week', ' Native-country', ' Income'],\n",
       "      dtype='object')"
      ]
     },
     "execution_count": 5,
     "metadata": {},
     "output_type": "execute_result"
    }
   ],
   "source": [
    "object_col = df.columns\n",
    "object_col"
   ]
  },
  {
   "cell_type": "markdown",
   "metadata": {},
   "source": [
    "We will fix the value of each records in the good form"
   ]
  },
  {
   "cell_type": "code",
   "execution_count": 6,
   "metadata": {},
   "outputs": [
    {
     "data": {
      "text/plain": [
       "Index(['Age', 'Workclass', 'Education', 'Marital-status', 'Occupation',\n",
       "       'Relationship', 'Race', 'Gender', 'Capital-gain', 'Capital-loss',\n",
       "       'Hours-per-week', 'Native-country', 'Income'],\n",
       "      dtype='object')"
      ]
     },
     "execution_count": 6,
     "metadata": {},
     "output_type": "execute_result"
    }
   ],
   "source": [
    "df.columns = df.columns.str.replace(' ', '')\n",
    "df.columns"
   ]
  },
  {
   "cell_type": "markdown",
   "metadata": {},
   "source": [
    "As we saw in the part overview of the dataset we need to fix the values in each columns in good form too"
   ]
  },
  {
   "cell_type": "code",
   "execution_count": 7,
   "metadata": {},
   "outputs": [
    {
     "name": "stdout",
     "output_type": "stream",
     "text": [
      "['State-gov' 'Self-emp-not-inc' 'Private' 'Federal-gov' 'Local-gov' '?'\n",
      " 'Self-emp-inc' 'Without-pay' 'Never-worked']\n",
      "['Bachelors' 'HS-grad' '11th' 'Masters' '9th' 'Some-college' 'Assoc-acdm'\n",
      " 'Assoc-voc' '7th-8th' 'Doctorate' 'Prof-school' '5th-6th' '10th'\n",
      " '1st-4th' 'Preschool' '12th']\n",
      "['Never-married' 'Married-civ-spouse' 'Divorced' 'Married-spouse-absent'\n",
      " 'Separated' 'Married-AF-spouse' 'Widowed']\n",
      "['Adm-clerical' 'Exec-managerial' 'Handlers-cleaners' 'Prof-specialty'\n",
      " 'Other-service' 'Sales' 'Craft-repair' 'Transport-moving'\n",
      " 'Farming-fishing' 'Machine-op-inspct' 'Tech-support' '?'\n",
      " 'Protective-serv' 'Armed-Forces' 'Priv-house-serv']\n",
      "['Not-in-family' 'Husband' 'Wife' 'Own-child' 'Unmarried' 'Other-relative']\n",
      "['White' 'Black' 'Asian-Pac-Islander' 'Amer-Indian-Eskimo' 'Other']\n",
      "['Male' 'Female']\n",
      "['United-States' 'Cuba' 'Jamaica' 'India' '?' 'Mexico' 'South'\n",
      " 'Puerto-Rico' 'Honduras' 'England' 'Canada' 'Germany' 'Iran'\n",
      " 'Philippines' 'Italy' 'Poland' 'Columbia' 'Cambodia' 'Thailand' 'Ecuador'\n",
      " 'Laos' 'Taiwan' 'Haiti' 'Portugal' 'Dominican-Republic' 'El-Salvador'\n",
      " 'France' 'Guatemala' 'China' 'Japan' 'Yugoslavia' 'Peru'\n",
      " 'Outlying-US(Guam-USVI-etc)' 'Scotland' 'Trinadad&Tobago' 'Greece'\n",
      " 'Nicaragua' 'Vietnam' 'Hong' 'Ireland' 'Hungary' 'Holand-Netherlands']\n",
      "['<=50K' '>50K']\n"
     ]
    }
   ],
   "source": [
    "object_col = df.select_dtypes(include=object).columns.tolist()\n",
    "for col in object_col:\n",
    "        df[col] = df[col].str.replace(' ', '')\n",
    "        print(df[col].unique())"
   ]
  },
  {
   "cell_type": "markdown",
   "metadata": {},
   "source": [
    "Now we mark all \"?\" as NaN (not available )"
   ]
  },
  {
   "cell_type": "code",
   "execution_count": 8,
   "metadata": {},
   "outputs": [],
   "source": [
    "for col in object_col:\n",
    "    df.loc[df[col] == '?', col] = np.nan"
   ]
  },
  {
   "cell_type": "markdown",
   "metadata": {},
   "source": [
    "We want to see the percentage of Nan in each column"
   ]
  },
  {
   "cell_type": "code",
   "execution_count": 9,
   "metadata": {},
   "outputs": [
    {
     "data": {
      "text/plain": [
       "Occupation        0.056601\n",
       "Workclass         0.056386\n",
       "Native-country    0.017905\n",
       "Income            0.000000\n",
       "Hours-per-week    0.000000\n",
       "Capital-loss      0.000000\n",
       "Capital-gain      0.000000\n",
       "Gender            0.000000\n",
       "Race              0.000000\n",
       "Relationship      0.000000\n",
       "Marital-status    0.000000\n",
       "Education         0.000000\n",
       "Age               0.000000\n",
       "dtype: float64"
      ]
     },
     "execution_count": 9,
     "metadata": {},
     "output_type": "execute_result"
    }
   ],
   "source": [
    "col_missing_pct = df.isna().sum()/df.shape[0]\n",
    "col_missing_pct.sort_values(ascending=False)"
   ]
  },
  {
   "cell_type": "markdown",
   "metadata": {},
   "source": [
    "The largest missing percentage by column level is 5% in dataset, and most columns are complete enough. Therefore, we remove all na value"
   ]
  },
  {
   "cell_type": "code",
   "execution_count": 10,
   "metadata": {},
   "outputs": [],
   "source": [
    "df = df.dropna(axis=0, how=\"any\")"
   ]
  },
  {
   "cell_type": "code",
   "execution_count": 11,
   "metadata": {},
   "outputs": [
    {
     "data": {
      "text/plain": [
       "Income            0.0\n",
       "Native-country    0.0\n",
       "Hours-per-week    0.0\n",
       "Capital-loss      0.0\n",
       "Capital-gain      0.0\n",
       "Gender            0.0\n",
       "Race              0.0\n",
       "Relationship      0.0\n",
       "Occupation        0.0\n",
       "Marital-status    0.0\n",
       "Education         0.0\n",
       "Workclass         0.0\n",
       "Age               0.0\n",
       "dtype: float64"
      ]
     },
     "execution_count": 11,
     "metadata": {},
     "output_type": "execute_result"
    }
   ],
   "source": [
    "col_missing_pct = df.isna().sum()/df.shape[0]\n",
    "col_missing_pct.sort_values(ascending=False)"
   ]
  },
  {
   "cell_type": "markdown",
   "metadata": {},
   "source": [
    "Now we will do some transformation in the data to have a good data for classification"
   ]
  },
  {
   "cell_type": "code",
   "execution_count": 12,
   "metadata": {},
   "outputs": [
    {
     "data": {
      "text/html": [
       "<div>\n",
       "<style scoped>\n",
       "    .dataframe tbody tr th:only-of-type {\n",
       "        vertical-align: middle;\n",
       "    }\n",
       "\n",
       "    .dataframe tbody tr th {\n",
       "        vertical-align: top;\n",
       "    }\n",
       "\n",
       "    .dataframe thead th {\n",
       "        text-align: right;\n",
       "    }\n",
       "</style>\n",
       "<table border=\"1\" class=\"dataframe\">\n",
       "  <thead>\n",
       "    <tr style=\"text-align: right;\">\n",
       "      <th></th>\n",
       "      <th>Age</th>\n",
       "      <th>Capital-gain</th>\n",
       "      <th>Capital-loss</th>\n",
       "      <th>Hours-per-week</th>\n",
       "    </tr>\n",
       "  </thead>\n",
       "  <tbody>\n",
       "    <tr>\n",
       "      <th>count</th>\n",
       "      <td>30162.000000</td>\n",
       "      <td>30162.000000</td>\n",
       "      <td>30162.000000</td>\n",
       "      <td>30162.000000</td>\n",
       "    </tr>\n",
       "    <tr>\n",
       "      <th>mean</th>\n",
       "      <td>38.437902</td>\n",
       "      <td>1092.007858</td>\n",
       "      <td>88.372489</td>\n",
       "      <td>40.931238</td>\n",
       "    </tr>\n",
       "    <tr>\n",
       "      <th>std</th>\n",
       "      <td>13.134665</td>\n",
       "      <td>7406.346497</td>\n",
       "      <td>404.298370</td>\n",
       "      <td>11.979984</td>\n",
       "    </tr>\n",
       "    <tr>\n",
       "      <th>min</th>\n",
       "      <td>17.000000</td>\n",
       "      <td>0.000000</td>\n",
       "      <td>0.000000</td>\n",
       "      <td>1.000000</td>\n",
       "    </tr>\n",
       "    <tr>\n",
       "      <th>25%</th>\n",
       "      <td>28.000000</td>\n",
       "      <td>0.000000</td>\n",
       "      <td>0.000000</td>\n",
       "      <td>40.000000</td>\n",
       "    </tr>\n",
       "    <tr>\n",
       "      <th>50%</th>\n",
       "      <td>37.000000</td>\n",
       "      <td>0.000000</td>\n",
       "      <td>0.000000</td>\n",
       "      <td>40.000000</td>\n",
       "    </tr>\n",
       "    <tr>\n",
       "      <th>75%</th>\n",
       "      <td>47.000000</td>\n",
       "      <td>0.000000</td>\n",
       "      <td>0.000000</td>\n",
       "      <td>45.000000</td>\n",
       "    </tr>\n",
       "    <tr>\n",
       "      <th>max</th>\n",
       "      <td>90.000000</td>\n",
       "      <td>99999.000000</td>\n",
       "      <td>4356.000000</td>\n",
       "      <td>99.000000</td>\n",
       "    </tr>\n",
       "  </tbody>\n",
       "</table>\n",
       "</div>"
      ],
      "text/plain": [
       "                Age  Capital-gain  Capital-loss  Hours-per-week\n",
       "count  30162.000000  30162.000000  30162.000000    30162.000000\n",
       "mean      38.437902   1092.007858     88.372489       40.931238\n",
       "std       13.134665   7406.346497    404.298370       11.979984\n",
       "min       17.000000      0.000000      0.000000        1.000000\n",
       "25%       28.000000      0.000000      0.000000       40.000000\n",
       "50%       37.000000      0.000000      0.000000       40.000000\n",
       "75%       47.000000      0.000000      0.000000       45.000000\n",
       "max       90.000000  99999.000000   4356.000000       99.000000"
      ]
     },
     "execution_count": 12,
     "metadata": {},
     "output_type": "execute_result"
    }
   ],
   "source": [
    "df.describe()"
   ]
  },
  {
   "cell_type": "markdown",
   "metadata": {},
   "source": [
    "Box plots are often used to show the distribution of numerical data and skewness through displaying the data quartiles (or percentiles) and averages."
   ]
  },
  {
   "cell_type": "code",
   "execution_count": 13,
   "metadata": {},
   "outputs": [
    {
     "data": {
      "text/plain": [
       "Text(0, 0.5, 'Working hours per week')"
      ]
     },
     "execution_count": 13,
     "metadata": {},
     "output_type": "execute_result"
    },
    {
     "data": {
      "image/png": "[encoded data removed]",
      "text/plain": [
       "<Figure size 432x288 with 1 Axes>"
      ]
     },
     "metadata": {
      "needs_background": "light"
     },
     "output_type": "display_data"
    }
   ],
   "source": [
    "df[\"Hours-per-week\"].plot.box()\n",
    "plt.ylabel(\"Working hours per week\")"
   ]
  },
  {
   "cell_type": "markdown",
   "metadata": {},
   "source": [
    "The filled black dots are the so-called outliers, i.e. data points that fall below the lower whisker or above the upper whisker. Therefore, we will group the working hours in 5 categories which we consider relevant:\n",
    "_less than 40 hours per week\n",
    "_between 40 and 45 hours per week\n",
    "_between 45 and 60 hours per week\n",
    "_between 60 and 80 hours per week, and\n",
    "_more than 80 hours per week,"
   ]
  },
  {
   "cell_type": "code",
   "execution_count": 14,
   "metadata": {},
   "outputs": [],
   "source": [
    "def label_hours_per_week (row):\n",
    "        if row[\"Hours-per-week\"] < 40 :\n",
    "                  return \"less_than_40\"\n",
    "        elif row[\"Hours-per-week\"] >= 40 and row[\"Hours-per-week\"] <= 45:\n",
    "              return \"between_40_and_45\"\n",
    "        elif row[\"Hours-per-week\"] > 45 and row[\"Hours-per-week\"] <= 60:\n",
    "              return \"between_45_and_60\"\n",
    "        elif row[\"Hours-per-week\"] > 60 and row[\"Hours-per-week\"] <= 80:\n",
    "              return \"between_60_and_80\"\n",
    "        elif row[\"Hours-per-week\"] > 80:\n",
    "              return \"more_than_80\""
   ]
  },
  {
   "cell_type": "code",
   "execution_count": 15,
   "metadata": {},
   "outputs": [
    {
     "data": {
      "text/plain": [
       "between_40_and_45    55.06\n",
       "less_than_40         22.26\n",
       "between_45_and_60    19.20\n",
       "between_60_and_80     2.84\n",
       "more_than_80          0.65\n",
       "Name: Hours-per-week, dtype: float64"
      ]
     },
     "execution_count": 15,
     "metadata": {},
     "output_type": "execute_result"
    }
   ],
   "source": [
    "df[\"Hours-per-week\"] = df.apply(lambda row: label_hours_per_week(row), axis=1)\n",
    "round(df[\"Hours-per-week\"].value_counts(normalize=True) * 100,2)"
   ]
  },
  {
   "cell_type": "markdown",
   "metadata": {},
   "source": [
    "We can see the majority of people work between 40 and 45 hours a week, and about 0.65 % people work more than 80 hours a week"
   ]
  },
  {
   "cell_type": "code",
   "execution_count": 16,
   "metadata": {},
   "outputs": [
    {
     "data": {
      "text/html": [
       "<div>\n",
       "<style scoped>\n",
       "    .dataframe tbody tr th:only-of-type {\n",
       "        vertical-align: middle;\n",
       "    }\n",
       "\n",
       "    .dataframe tbody tr th {\n",
       "        vertical-align: top;\n",
       "    }\n",
       "\n",
       "    .dataframe thead th {\n",
       "        text-align: right;\n",
       "    }\n",
       "</style>\n",
       "<table border=\"1\" class=\"dataframe\">\n",
       "  <thead>\n",
       "    <tr style=\"text-align: right;\">\n",
       "      <th></th>\n",
       "      <th>Skew</th>\n",
       "    </tr>\n",
       "  </thead>\n",
       "  <tbody>\n",
       "    <tr>\n",
       "      <th>Capital-gain</th>\n",
       "      <td>11.902682</td>\n",
       "    </tr>\n",
       "    <tr>\n",
       "      <th>Capital-loss</th>\n",
       "      <td>4.526380</td>\n",
       "    </tr>\n",
       "    <tr>\n",
       "      <th>Age</th>\n",
       "      <td>0.530228</td>\n",
       "    </tr>\n",
       "  </tbody>\n",
       "</table>\n",
       "</div>"
      ],
      "text/plain": [
       "                   Skew\n",
       "Capital-gain  11.902682\n",
       "Capital-loss   4.526380\n",
       "Age            0.530228"
      ]
     },
     "execution_count": 16,
     "metadata": {},
     "output_type": "execute_result"
    }
   ],
   "source": [
    "num_col = df.select_dtypes(include=\"int64\").columns.tolist()\n",
    "skew_feats = df[num_col].skew().sort_values(ascending=False)\n",
    "skewness = pd.DataFrame({'Skew': skew_feats})\n",
    "skewness"
   ]
  },
  {
   "cell_type": "markdown",
   "metadata": {},
   "source": [
    "we can see that capital-gain and capital-loss in the table describe we have so many 0. We will show the percentage of value 0 in each column."
   ]
  },
  {
   "cell_type": "code",
   "execution_count": 17,
   "metadata": {},
   "outputs": [
    {
     "data": {
      "text/plain": [
       "0        91.585439\n",
       "15024     1.117300\n",
       "7688      0.895166\n",
       "7298      0.795703\n",
       "99999     0.490684\n",
       "           ...    \n",
       "401       0.003315\n",
       "22040     0.003315\n",
       "4931      0.003315\n",
       "1455      0.003315\n",
       "1639      0.003315\n",
       "Name: Capital-gain, Length: 118, dtype: float64"
      ]
     },
     "execution_count": 17,
     "metadata": {},
     "output_type": "execute_result"
    }
   ],
   "source": [
    "df[\"Capital-gain\"] .value_counts(normalize=True)*100"
   ]
  },
  {
   "cell_type": "code",
   "execution_count": 18,
   "metadata": {},
   "outputs": [
    {
     "data": {
      "text/plain": [
       "0       95.268881\n",
       "1902     0.643193\n",
       "1977     0.537100\n",
       "1887     0.513892\n",
       "1848     0.165772\n",
       "          ...    \n",
       "419      0.003315\n",
       "1411     0.003315\n",
       "1539     0.003315\n",
       "2472     0.003315\n",
       "2467     0.003315\n",
       "Name: Capital-loss, Length: 90, dtype: float64"
      ]
     },
     "execution_count": 18,
     "metadata": {},
     "output_type": "execute_result"
    }
   ],
   "source": [
    "df[\"Capital-loss\"] .value_counts(normalize=True)*100"
   ]
  },
  {
   "cell_type": "markdown",
   "metadata": {},
   "source": [
    "We will apply logarithmic transformation on the skewed data. Here is capital-gain and capital-loss. "
   ]
  },
  {
   "cell_type": "code",
   "execution_count": 19,
   "metadata": {},
   "outputs": [],
   "source": [
    "from sklearn.preprocessing import MinMaxScaler\n",
    "\n",
    "col_skewed = [\"Capital-gain\", \"Capital-loss\"]\n",
    "feature_raw = df.drop('Income', axis=1)\n",
    "features_log_transformed = pd.DataFrame(data=feature_raw)\n",
    "features_log_transformed[col_skewed] = feature_raw[col_skewed].apply(lambda x: np.log(x + 1))\n"
   ]
  },
  {
   "cell_type": "markdown",
   "metadata": {},
   "source": [
    "We see that the coefficient of skewness decreases"
   ]
  },
  {
   "cell_type": "code",
   "execution_count": 30,
   "metadata": {},
   "outputs": [
    {
     "data": {
      "text/html": [
       "<div>\n",
       "<style scoped>\n",
       "    .dataframe tbody tr th:only-of-type {\n",
       "        vertical-align: middle;\n",
       "    }\n",
       "\n",
       "    .dataframe tbody tr th {\n",
       "        vertical-align: top;\n",
       "    }\n",
       "\n",
       "    .dataframe thead th {\n",
       "        text-align: right;\n",
       "    }\n",
       "</style>\n",
       "<table border=\"1\" class=\"dataframe\">\n",
       "  <thead>\n",
       "    <tr style=\"text-align: right;\">\n",
       "      <th></th>\n",
       "      <th>Skew</th>\n",
       "    </tr>\n",
       "  </thead>\n",
       "  <tbody>\n",
       "    <tr>\n",
       "      <th>Capital-loss</th>\n",
       "      <td>4.272387</td>\n",
       "    </tr>\n",
       "    <tr>\n",
       "      <th>Capital-gain</th>\n",
       "      <td>3.073208</td>\n",
       "    </tr>\n",
       "    <tr>\n",
       "      <th>Age</th>\n",
       "      <td>0.530228</td>\n",
       "    </tr>\n",
       "  </tbody>\n",
       "</table>\n",
       "</div>"
      ],
      "text/plain": [
       "                  Skew\n",
       "Capital-loss  4.272387\n",
       "Capital-gain  3.073208\n",
       "Age           0.530228"
      ]
     },
     "execution_count": 30,
     "metadata": {},
     "output_type": "execute_result"
    }
   ],
   "source": [
    "num_col = features_log_transformed.select_dtypes(include=\"float64\").columns.tolist()\n",
    "skew_feats = features_log_transformed[num_col].skew().sort_values(ascending=False)\n",
    "skewness = pd.DataFrame({'Skew': skew_feats})\n",
    "skewness"
   ]
  },
  {
   "cell_type": "markdown",
   "metadata": {},
   "source": [
    "In addition to performing transformations on features that are highly skewed, here we perform a type of scaling on numerical features. Applying a scaling to the data does not change the shape of each feature's distribution (such as 'capital-gain' or 'capital-loss' above); however, it is useful to scale the input attributes for a model that relies on the magnitude of values."
   ]
  },
  {
   "cell_type": "code",
   "execution_count": 21,
   "metadata": {},
   "outputs": [],
   "source": [
    "scaler = MinMaxScaler() \n",
    "features_log_minmax_transform = pd.DataFrame(data = features_log_transformed)\n",
    "features_log_minmax_transform[num_col] = scaler.fit_transform(features_log_transformed[num_col])\n",
    "df[num_col] = features_log_minmax_transform[num_col]"
   ]
  },
  {
   "cell_type": "code",
   "execution_count": 22,
   "metadata": {},
   "outputs": [
    {
     "data": {
      "text/plain": [
       "United-States                 91.19\n",
       "Mexico                         2.02\n",
       "Philippines                    0.62\n",
       "Germany                        0.42\n",
       "Puerto-Rico                    0.36\n",
       "Canada                         0.35\n",
       "El-Salvador                    0.33\n",
       "India                          0.33\n",
       "Cuba                           0.31\n",
       "England                        0.29\n",
       "Jamaica                        0.27\n",
       "South                          0.24\n",
       "China                          0.23\n",
       "Italy                          0.23\n",
       "Dominican-Republic             0.22\n",
       "Vietnam                        0.21\n",
       "Guatemala                      0.21\n",
       "Japan                          0.20\n",
       "Columbia                       0.19\n",
       "Poland                         0.19\n",
       "Haiti                          0.14\n",
       "Taiwan                         0.14\n",
       "Iran                           0.14\n",
       "Portugal                       0.11\n",
       "Nicaragua                      0.11\n",
       "Peru                           0.10\n",
       "Greece                         0.10\n",
       "France                         0.09\n",
       "Ecuador                        0.09\n",
       "Ireland                        0.08\n",
       "Hong                           0.06\n",
       "Cambodia                       0.06\n",
       "Trinadad&Tobago                0.06\n",
       "Laos                           0.06\n",
       "Thailand                       0.06\n",
       "Yugoslavia                     0.05\n",
       "Outlying-US(Guam-USVI-etc)     0.05\n",
       "Hungary                        0.04\n",
       "Honduras                       0.04\n",
       "Scotland                       0.04\n",
       "Holand-Netherlands             0.00\n",
       "Name: Native-country, dtype: float64"
      ]
     },
     "execution_count": 22,
     "metadata": {},
     "output_type": "execute_result"
    }
   ],
   "source": [
    "round(df[\"Native-country\"].value_counts(normalize=True) * 100,2)"
   ]
  },
  {
   "cell_type": "markdown",
   "metadata": {},
   "source": [
    "As we check, columns \"Native_country\" has 41 levels, this will complicate unnecessarily the analysis and might lead to overfitting because some country has a few records in datasets (like Holand-Netherlands). Hence, it is better to group the native countries into several global regions. "
   ]
  },
  {
   "cell_type": "code",
   "execution_count": 23,
   "metadata": {},
   "outputs": [],
   "source": [
    "def label_native_country(row):\n",
    "        asia = [\"Cambodia\", \"China\", \"Hong\", \"Laos\", \"Thailand\",\"Japan\", \"Taiwan\", \"Vietnam\",\"Philippines\",\"India\", \"Iran\",\"South\"]\n",
    "        europe = [\"England\", \"Germany\", \"Holand-Netherlands\", \"Ireland\", \"France\", \"Greece\", \"Italy\", \"Portugal\", \"Scotland\",\"Poland\", \"Yugoslavia\", \"Hungary\"]\n",
    "        america = [ \"Ecuador\",\"Peru\",\"Columbia\",\"Canada\", \"Cuba\", \"Guatemala\", \"Jamaica\", \"Nicaragua\", \"Puerto-Rico\",  \"Dominican-Republic\", \"El-Salvador\", \"Haiti\", \"Honduras\", \"Mexico\", \"Trinadad&Tobago\"]\n",
    "        US = ['Outlying-US(Guam-USVI-etc)', 'United-States']\n",
    "        if row[\"Native-country\"] in asia:\n",
    "            return \"Asia\"\n",
    "        elif row[\"Native-country\"] in europe:\n",
    "            return \"Europe\"\n",
    "        elif row[\"Native-country\"] in america:\n",
    "            return \"America_without_USA\"\n",
    "        elif row[\"Native-country\"] in US:\n",
    "            return 'United-States'\n",
    "        #else:\n",
    "            #print(row[\"Native-country\"])"
   ]
  },
  {
   "cell_type": "code",
   "execution_count": 24,
   "metadata": {},
   "outputs": [
    {
     "data": {
      "text/plain": [
       "United-States          91.23\n",
       "America_without_USA     4.79\n",
       "Asia                    2.34\n",
       "Europe                  1.63\n",
       "Name: Native_region, dtype: float64"
      ]
     },
     "execution_count": 24,
     "metadata": {},
     "output_type": "execute_result"
    }
   ],
   "source": [
    "df[\"Native_region\"] = df.apply(lambda row: label_native_country(row), axis=1)\n",
    "round(df[\"Native_region\"].value_counts(normalize=True) * 100,2)"
   ]
  },
  {
   "cell_type": "code",
   "execution_count": 25,
   "metadata": {},
   "outputs": [
    {
     "name": "stdout",
     "output_type": "stream",
     "text": [
      "columns Age has 72 levels\n",
      "[0.30136986 0.45205479 0.28767123 0.49315068 0.15068493 0.2739726\n",
      " 0.43835616 0.47945205 0.19178082 0.34246575 0.17808219 0.08219178\n",
      " 0.20547945 0.23287671 0.10958904 0.35616438 0.31506849 0.50684932\n",
      " 0.24657534 0.57534247 0.53424658 0.02739726 0.04109589 0.38356164\n",
      " 0.06849315 0.42465753 0.05479452 0.09589041 0.54794521 0.36986301\n",
      " 0.32876712 0.16438356 0.4109589  0.39726027 0.26027397 0.84931507\n",
      " 0.1369863  0.01369863 0.21917808 0.80821918 0.52054795 0.60273973\n",
      " 0.7260274  0.64383562 0.73972603 0.67123288 0.46575342 0.56164384\n",
      " 0.12328767 0.         0.5890411  1.         0.79452055 0.65753425\n",
      " 0.82191781 0.61643836 0.63013699 0.68493151 0.78082192 0.75342466\n",
      " 0.71232877 0.69863014 0.76712329 0.87671233 0.83561644 0.97260274\n",
      " 0.8630137  0.91780822 0.90410959 0.93150685 0.89041096 0.94520548]\n",
      "columns Workclass has 7 levels\n",
      "['State-gov' 'Self-emp-not-inc' 'Private' 'Federal-gov' 'Local-gov'\n",
      " 'Self-emp-inc' 'Without-pay']\n",
      "columns Education has 16 levels\n",
      "['Bachelors' 'HS-grad' '11th' 'Masters' '9th' 'Some-college' 'Assoc-acdm'\n",
      " '7th-8th' 'Doctorate' 'Assoc-voc' 'Prof-school' '5th-6th' '10th'\n",
      " 'Preschool' '12th' '1st-4th']\n",
      "columns Marital-status has 7 levels\n",
      "['Never-married' 'Married-civ-spouse' 'Divorced' 'Married-spouse-absent'\n",
      " 'Separated' 'Married-AF-spouse' 'Widowed']\n",
      "columns Occupation has 14 levels\n",
      "['Adm-clerical' 'Exec-managerial' 'Handlers-cleaners' 'Prof-specialty'\n",
      " 'Other-service' 'Sales' 'Transport-moving' 'Farming-fishing'\n",
      " 'Machine-op-inspct' 'Tech-support' 'Craft-repair' 'Protective-serv'\n",
      " 'Armed-Forces' 'Priv-house-serv']\n",
      "columns Relationship has 6 levels\n",
      "['Not-in-family' 'Husband' 'Wife' 'Own-child' 'Unmarried' 'Other-relative']\n",
      "columns Race has 5 levels\n",
      "['White' 'Black' 'Asian-Pac-Islander' 'Amer-Indian-Eskimo' 'Other']\n",
      "columns Gender has 2 levels\n",
      "['Male' 'Female']\n",
      "columns Capital-gain has 118 levels\n",
      "[ 2174     0 14084  5178  5013  2407 14344 15024  7688  4064  4386  7298\n",
      "  1409  3674  1055  2050  2176   594 20051  6849  4101  8614  3411  2597\n",
      " 25236  4650  2463  3103 10605  2964  3325  2580  3471  4865 99999  6514\n",
      "  1471  2329  2105  2885 10520  2202  2961 27828  6767  2228  1506 13550\n",
      "  2635  5556  4787  3781  3137  3818   914   401  2829  2977  4934  2062\n",
      "  2354  3464  5455 15020  1424  3273 22040  4416 10566  4931  7430 34095\n",
      "  6497  3908   114  2346  2907  1151  9386  2414  2290  3418 15831 41310\n",
      "  4508  2538  3456  1848  3887  7896  5721  9562  6418  1455  2036  3942\n",
      "  1831 11678  2936  2993  7443  6360  4687  1797  6723  2009  3432  6097\n",
      "  1639  2653 18481 25124  7978   991  1173  2387  5060  1086]\n",
      "columns Capital-loss has 90 levels\n",
      "[   0 2042 1408 1902 1887 1719 1762 1564 2179 1816 1980 1977 1876 1340\n",
      " 2206 1741 1485 2339 2415 1380 1721 2051 2377 1669 2352 1672  653 2392\n",
      " 1504 1590 1651 1628 1848 2001 1740 2002 1579 2258 1602 2547 2205 1726\n",
      " 2444 1138 2238  625  213 1539  880 1668 1092 1594 2231 1844  810 2824\n",
      " 2559 2057 1573 1974  974 2174 2149 1735 1258 2603 2282  323 2246 1617\n",
      " 1648 1825 3770 1755 3683 2129 4356 2267 2080 2457  419  155 3900 2201\n",
      " 1944 2467 2754 2472 3004 1411]\n",
      "columns Hours-per-week has 5 levels\n",
      "['between_40_and_45' 'less_than_40' 'between_45_and_60'\n",
      " 'between_60_and_80' 'more_than_80']\n",
      "columns Native-country has 41 levels\n",
      "['United-States' 'Cuba' 'Jamaica' 'India' 'Mexico' 'Puerto-Rico'\n",
      " 'Honduras' 'England' 'Canada' 'Germany' 'Iran' 'Philippines' 'Poland'\n",
      " 'Columbia' 'Cambodia' 'Thailand' 'Ecuador' 'Laos' 'Taiwan' 'Haiti'\n",
      " 'Portugal' 'Dominican-Republic' 'El-Salvador' 'France' 'Guatemala'\n",
      " 'Italy' 'China' 'South' 'Japan' 'Yugoslavia' 'Peru'\n",
      " 'Outlying-US(Guam-USVI-etc)' 'Scotland' 'Trinadad&Tobago' 'Greece'\n",
      " 'Nicaragua' 'Vietnam' 'Hong' 'Ireland' 'Hungary' 'Holand-Netherlands']\n",
      "columns Income has 2 levels\n",
      "['<=50K' '>50K']\n",
      "columns Native_region has 4 levels\n",
      "['United-States' 'America_without_USA' 'Asia' 'Europe']\n"
     ]
    }
   ],
   "source": [
    "for col in df:\n",
    "    print(\"columns \" + str(col) + \" has \" + str(len(df[col].unique())) + \" levels\")\n",
    "    print(df[col].unique())"
   ]
  },
  {
   "cell_type": "code",
   "execution_count": 26,
   "metadata": {},
   "outputs": [],
   "source": [
    "income = df['Income']\n",
    "features = df.drop(['Income', 'Native-country'], axis=1)"
   ]
  },
  {
   "cell_type": "markdown",
   "metadata": {},
   "source": [
    "There are some features for each record that are non-numeric. Learning algorithms expect input to be numeric, which requires that non-numeric features (called categorical variables) be converted. Here convert categorical variables by using the one-hot encoding scheme."
   ]
  },
  {
   "cell_type": "code",
   "execution_count": 27,
   "metadata": {},
   "outputs": [
    {
     "name": "stderr",
     "output_type": "stream",
     "text": [
      "D:\\python\\envs\\deeplearning\\lib\\site-packages\\ipykernel_launcher.py:8: FutureWarning: The 'get_values' method is deprecated and will be removed in a future version. Use '.to_numpy()' or '.array' instead.\n",
      "  \n"
     ]
    },
    {
     "data": {
      "text/html": [
       "<div>\n",
       "<style scoped>\n",
       "    .dataframe tbody tr th:only-of-type {\n",
       "        vertical-align: middle;\n",
       "    }\n",
       "\n",
       "    .dataframe tbody tr th {\n",
       "        vertical-align: top;\n",
       "    }\n",
       "\n",
       "    .dataframe thead th {\n",
       "        text-align: right;\n",
       "    }\n",
       "</style>\n",
       "<table border=\"1\" class=\"dataframe\">\n",
       "  <thead>\n",
       "    <tr style=\"text-align: right;\">\n",
       "      <th></th>\n",
       "      <th>Workclass_Federal-gov</th>\n",
       "      <th>Workclass_Local-gov</th>\n",
       "      <th>Workclass_Private</th>\n",
       "      <th>Workclass_Self-emp-inc</th>\n",
       "      <th>Workclass_Self-emp-not-inc</th>\n",
       "      <th>Workclass_State-gov</th>\n",
       "      <th>Workclass_Without-pay</th>\n",
       "      <th>Education_10th</th>\n",
       "      <th>Education_11th</th>\n",
       "      <th>Education_12th</th>\n",
       "      <th>...</th>\n",
       "      <th>Gender_Male</th>\n",
       "      <th>Hours-per-week_between_40_and_45</th>\n",
       "      <th>Hours-per-week_between_45_and_60</th>\n",
       "      <th>Hours-per-week_between_60_and_80</th>\n",
       "      <th>Hours-per-week_less_than_40</th>\n",
       "      <th>Hours-per-week_more_than_80</th>\n",
       "      <th>Native_region_America_without_USA</th>\n",
       "      <th>Native_region_Asia</th>\n",
       "      <th>Native_region_Europe</th>\n",
       "      <th>Native_region_United-States</th>\n",
       "    </tr>\n",
       "  </thead>\n",
       "  <tbody>\n",
       "    <tr>\n",
       "      <th>0</th>\n",
       "      <td>0.0</td>\n",
       "      <td>0.0</td>\n",
       "      <td>0.0</td>\n",
       "      <td>0.0</td>\n",
       "      <td>0.0</td>\n",
       "      <td>1.0</td>\n",
       "      <td>0.0</td>\n",
       "      <td>0.0</td>\n",
       "      <td>0.0</td>\n",
       "      <td>0.0</td>\n",
       "      <td>...</td>\n",
       "      <td>1.0</td>\n",
       "      <td>1.0</td>\n",
       "      <td>0.0</td>\n",
       "      <td>0.0</td>\n",
       "      <td>0.0</td>\n",
       "      <td>0.0</td>\n",
       "      <td>0.0</td>\n",
       "      <td>0.0</td>\n",
       "      <td>0.0</td>\n",
       "      <td>1.0</td>\n",
       "    </tr>\n",
       "    <tr>\n",
       "      <th>1</th>\n",
       "      <td>0.0</td>\n",
       "      <td>0.0</td>\n",
       "      <td>0.0</td>\n",
       "      <td>0.0</td>\n",
       "      <td>1.0</td>\n",
       "      <td>0.0</td>\n",
       "      <td>0.0</td>\n",
       "      <td>0.0</td>\n",
       "      <td>0.0</td>\n",
       "      <td>0.0</td>\n",
       "      <td>...</td>\n",
       "      <td>1.0</td>\n",
       "      <td>0.0</td>\n",
       "      <td>0.0</td>\n",
       "      <td>0.0</td>\n",
       "      <td>1.0</td>\n",
       "      <td>0.0</td>\n",
       "      <td>0.0</td>\n",
       "      <td>0.0</td>\n",
       "      <td>0.0</td>\n",
       "      <td>1.0</td>\n",
       "    </tr>\n",
       "    <tr>\n",
       "      <th>2</th>\n",
       "      <td>0.0</td>\n",
       "      <td>0.0</td>\n",
       "      <td>1.0</td>\n",
       "      <td>0.0</td>\n",
       "      <td>0.0</td>\n",
       "      <td>0.0</td>\n",
       "      <td>0.0</td>\n",
       "      <td>0.0</td>\n",
       "      <td>0.0</td>\n",
       "      <td>0.0</td>\n",
       "      <td>...</td>\n",
       "      <td>1.0</td>\n",
       "      <td>1.0</td>\n",
       "      <td>0.0</td>\n",
       "      <td>0.0</td>\n",
       "      <td>0.0</td>\n",
       "      <td>0.0</td>\n",
       "      <td>0.0</td>\n",
       "      <td>0.0</td>\n",
       "      <td>0.0</td>\n",
       "      <td>1.0</td>\n",
       "    </tr>\n",
       "    <tr>\n",
       "      <th>3</th>\n",
       "      <td>0.0</td>\n",
       "      <td>0.0</td>\n",
       "      <td>1.0</td>\n",
       "      <td>0.0</td>\n",
       "      <td>0.0</td>\n",
       "      <td>0.0</td>\n",
       "      <td>0.0</td>\n",
       "      <td>0.0</td>\n",
       "      <td>1.0</td>\n",
       "      <td>0.0</td>\n",
       "      <td>...</td>\n",
       "      <td>1.0</td>\n",
       "      <td>1.0</td>\n",
       "      <td>0.0</td>\n",
       "      <td>0.0</td>\n",
       "      <td>0.0</td>\n",
       "      <td>0.0</td>\n",
       "      <td>0.0</td>\n",
       "      <td>0.0</td>\n",
       "      <td>0.0</td>\n",
       "      <td>1.0</td>\n",
       "    </tr>\n",
       "    <tr>\n",
       "      <th>4</th>\n",
       "      <td>0.0</td>\n",
       "      <td>0.0</td>\n",
       "      <td>1.0</td>\n",
       "      <td>0.0</td>\n",
       "      <td>0.0</td>\n",
       "      <td>0.0</td>\n",
       "      <td>0.0</td>\n",
       "      <td>0.0</td>\n",
       "      <td>0.0</td>\n",
       "      <td>0.0</td>\n",
       "      <td>...</td>\n",
       "      <td>0.0</td>\n",
       "      <td>1.0</td>\n",
       "      <td>0.0</td>\n",
       "      <td>0.0</td>\n",
       "      <td>0.0</td>\n",
       "      <td>0.0</td>\n",
       "      <td>1.0</td>\n",
       "      <td>0.0</td>\n",
       "      <td>0.0</td>\n",
       "      <td>0.0</td>\n",
       "    </tr>\n",
       "  </tbody>\n",
       "</table>\n",
       "<p>5 rows × 66 columns</p>\n",
       "</div>"
      ],
      "text/plain": [
       "   Workclass_Federal-gov  Workclass_Local-gov  Workclass_Private  \\\n",
       "0                    0.0                  0.0                0.0   \n",
       "1                    0.0                  0.0                0.0   \n",
       "2                    0.0                  0.0                1.0   \n",
       "3                    0.0                  0.0                1.0   \n",
       "4                    0.0                  0.0                1.0   \n",
       "\n",
       "   Workclass_Self-emp-inc  Workclass_Self-emp-not-inc  Workclass_State-gov  \\\n",
       "0                     0.0                         0.0                  1.0   \n",
       "1                     0.0                         1.0                  0.0   \n",
       "2                     0.0                         0.0                  0.0   \n",
       "3                     0.0                         0.0                  0.0   \n",
       "4                     0.0                         0.0                  0.0   \n",
       "\n",
       "   Workclass_Without-pay  Education_10th  Education_11th  Education_12th  ...  \\\n",
       "0                    0.0             0.0             0.0             0.0  ...   \n",
       "1                    0.0             0.0             0.0             0.0  ...   \n",
       "2                    0.0             0.0             0.0             0.0  ...   \n",
       "3                    0.0             0.0             1.0             0.0  ...   \n",
       "4                    0.0             0.0             0.0             0.0  ...   \n",
       "\n",
       "   Gender_Male  Hours-per-week_between_40_and_45  \\\n",
       "0          1.0                               1.0   \n",
       "1          1.0                               0.0   \n",
       "2          1.0                               1.0   \n",
       "3          1.0                               1.0   \n",
       "4          0.0                               1.0   \n",
       "\n",
       "   Hours-per-week_between_45_and_60  Hours-per-week_between_60_and_80  \\\n",
       "0                               0.0                               0.0   \n",
       "1                               0.0                               0.0   \n",
       "2                               0.0                               0.0   \n",
       "3                               0.0                               0.0   \n",
       "4                               0.0                               0.0   \n",
       "\n",
       "   Hours-per-week_less_than_40  Hours-per-week_more_than_80  \\\n",
       "0                          0.0                          0.0   \n",
       "1                          1.0                          0.0   \n",
       "2                          0.0                          0.0   \n",
       "3                          0.0                          0.0   \n",
       "4                          0.0                          0.0   \n",
       "\n",
       "   Native_region_America_without_USA  Native_region_Asia  \\\n",
       "0                                0.0                 0.0   \n",
       "1                                0.0                 0.0   \n",
       "2                                0.0                 0.0   \n",
       "3                                0.0                 0.0   \n",
       "4                                1.0                 0.0   \n",
       "\n",
       "   Native_region_Europe  Native_region_United-States  \n",
       "0                   0.0                          1.0  \n",
       "1                   0.0                          1.0  \n",
       "2                   0.0                          1.0  \n",
       "3                   0.0                          1.0  \n",
       "4                   0.0                          0.0  \n",
       "\n",
       "[5 rows x 66 columns]"
      ]
     },
     "execution_count": 27,
     "metadata": {},
     "output_type": "execute_result"
    }
   ],
   "source": [
    "from sklearn.preprocessing import OneHotEncoder\n",
    "\n",
    "cat_feats = features.dtypes[features.dtypes=='object'].index.tolist()\n",
    "cat_idx = [features.columns.get_loc(col) for col in cat_feats]\n",
    "encoder = OneHotEncoder(handle_unknown=\"ignore\", sparse=False)\n",
    "encoded_cat_feats = encoder.fit_transform(features.loc[:,cat_feats])\n",
    "\n",
    "cat_col_name = features.columns.get_values()[cat_idx].tolist()\n",
    "encoded_cat_feats_name = encoder.get_feature_names(cat_col_name)\n",
    "\n",
    "encoded_cat_feats_df = pd.DataFrame(encoded_cat_feats, columns=encoded_cat_feats_name)\n",
    "encoded_cat_feats_df.head()"
   ]
  },
  {
   "cell_type": "raw",
   "metadata": {},
   "source": [
    "Now we will merge the numeric and non-numeric data into one dataframe"
   ]
  },
  {
   "cell_type": "code",
   "execution_count": 28,
   "metadata": {},
   "outputs": [
    {
     "name": "stdout",
     "output_type": "stream",
     "text": [
      "69 total features after one-hot encoding.\n"
     ]
    },
    {
     "data": {
      "text/html": [
       "<div>\n",
       "<style scoped>\n",
       "    .dataframe tbody tr th:only-of-type {\n",
       "        vertical-align: middle;\n",
       "    }\n",
       "\n",
       "    .dataframe tbody tr th {\n",
       "        vertical-align: top;\n",
       "    }\n",
       "\n",
       "    .dataframe thead th {\n",
       "        text-align: right;\n",
       "    }\n",
       "</style>\n",
       "<table border=\"1\" class=\"dataframe\">\n",
       "  <thead>\n",
       "    <tr style=\"text-align: right;\">\n",
       "      <th></th>\n",
       "      <th>Age</th>\n",
       "      <th>Capital-gain</th>\n",
       "      <th>Capital-loss</th>\n",
       "      <th>Workclass_Federal-gov</th>\n",
       "      <th>Workclass_Local-gov</th>\n",
       "      <th>Workclass_Private</th>\n",
       "      <th>Workclass_Self-emp-inc</th>\n",
       "      <th>Workclass_Self-emp-not-inc</th>\n",
       "      <th>Workclass_State-gov</th>\n",
       "      <th>Workclass_Without-pay</th>\n",
       "      <th>...</th>\n",
       "      <th>Gender_Male</th>\n",
       "      <th>Hours-per-week_between_40_and_45</th>\n",
       "      <th>Hours-per-week_between_45_and_60</th>\n",
       "      <th>Hours-per-week_between_60_and_80</th>\n",
       "      <th>Hours-per-week_less_than_40</th>\n",
       "      <th>Hours-per-week_more_than_80</th>\n",
       "      <th>Native_region_America_without_USA</th>\n",
       "      <th>Native_region_Asia</th>\n",
       "      <th>Native_region_Europe</th>\n",
       "      <th>Native_region_United-States</th>\n",
       "    </tr>\n",
       "  </thead>\n",
       "  <tbody>\n",
       "    <tr>\n",
       "      <th>0</th>\n",
       "      <td>0.301370</td>\n",
       "      <td>2174</td>\n",
       "      <td>0</td>\n",
       "      <td>0.0</td>\n",
       "      <td>0.0</td>\n",
       "      <td>0.0</td>\n",
       "      <td>0.0</td>\n",
       "      <td>0.0</td>\n",
       "      <td>1.0</td>\n",
       "      <td>0.0</td>\n",
       "      <td>...</td>\n",
       "      <td>1.0</td>\n",
       "      <td>1.0</td>\n",
       "      <td>0.0</td>\n",
       "      <td>0.0</td>\n",
       "      <td>0.0</td>\n",
       "      <td>0.0</td>\n",
       "      <td>0.0</td>\n",
       "      <td>0.0</td>\n",
       "      <td>0.0</td>\n",
       "      <td>1.0</td>\n",
       "    </tr>\n",
       "    <tr>\n",
       "      <th>1</th>\n",
       "      <td>0.452055</td>\n",
       "      <td>0</td>\n",
       "      <td>0</td>\n",
       "      <td>0.0</td>\n",
       "      <td>0.0</td>\n",
       "      <td>0.0</td>\n",
       "      <td>0.0</td>\n",
       "      <td>1.0</td>\n",
       "      <td>0.0</td>\n",
       "      <td>0.0</td>\n",
       "      <td>...</td>\n",
       "      <td>1.0</td>\n",
       "      <td>0.0</td>\n",
       "      <td>0.0</td>\n",
       "      <td>0.0</td>\n",
       "      <td>1.0</td>\n",
       "      <td>0.0</td>\n",
       "      <td>0.0</td>\n",
       "      <td>0.0</td>\n",
       "      <td>0.0</td>\n",
       "      <td>1.0</td>\n",
       "    </tr>\n",
       "    <tr>\n",
       "      <th>2</th>\n",
       "      <td>0.287671</td>\n",
       "      <td>0</td>\n",
       "      <td>0</td>\n",
       "      <td>0.0</td>\n",
       "      <td>0.0</td>\n",
       "      <td>1.0</td>\n",
       "      <td>0.0</td>\n",
       "      <td>0.0</td>\n",
       "      <td>0.0</td>\n",
       "      <td>0.0</td>\n",
       "      <td>...</td>\n",
       "      <td>1.0</td>\n",
       "      <td>1.0</td>\n",
       "      <td>0.0</td>\n",
       "      <td>0.0</td>\n",
       "      <td>0.0</td>\n",
       "      <td>0.0</td>\n",
       "      <td>0.0</td>\n",
       "      <td>0.0</td>\n",
       "      <td>0.0</td>\n",
       "      <td>1.0</td>\n",
       "    </tr>\n",
       "    <tr>\n",
       "      <th>3</th>\n",
       "      <td>0.493151</td>\n",
       "      <td>0</td>\n",
       "      <td>0</td>\n",
       "      <td>0.0</td>\n",
       "      <td>0.0</td>\n",
       "      <td>1.0</td>\n",
       "      <td>0.0</td>\n",
       "      <td>0.0</td>\n",
       "      <td>0.0</td>\n",
       "      <td>0.0</td>\n",
       "      <td>...</td>\n",
       "      <td>1.0</td>\n",
       "      <td>1.0</td>\n",
       "      <td>0.0</td>\n",
       "      <td>0.0</td>\n",
       "      <td>0.0</td>\n",
       "      <td>0.0</td>\n",
       "      <td>0.0</td>\n",
       "      <td>0.0</td>\n",
       "      <td>0.0</td>\n",
       "      <td>1.0</td>\n",
       "    </tr>\n",
       "    <tr>\n",
       "      <th>4</th>\n",
       "      <td>0.150685</td>\n",
       "      <td>0</td>\n",
       "      <td>0</td>\n",
       "      <td>0.0</td>\n",
       "      <td>0.0</td>\n",
       "      <td>1.0</td>\n",
       "      <td>0.0</td>\n",
       "      <td>0.0</td>\n",
       "      <td>0.0</td>\n",
       "      <td>0.0</td>\n",
       "      <td>...</td>\n",
       "      <td>0.0</td>\n",
       "      <td>1.0</td>\n",
       "      <td>0.0</td>\n",
       "      <td>0.0</td>\n",
       "      <td>0.0</td>\n",
       "      <td>0.0</td>\n",
       "      <td>1.0</td>\n",
       "      <td>0.0</td>\n",
       "      <td>0.0</td>\n",
       "      <td>0.0</td>\n",
       "    </tr>\n",
       "  </tbody>\n",
       "</table>\n",
       "<p>5 rows × 69 columns</p>\n",
       "</div>"
      ],
      "text/plain": [
       "        Age  Capital-gain  Capital-loss  Workclass_Federal-gov  \\\n",
       "0  0.301370          2174             0                    0.0   \n",
       "1  0.452055             0             0                    0.0   \n",
       "2  0.287671             0             0                    0.0   \n",
       "3  0.493151             0             0                    0.0   \n",
       "4  0.150685             0             0                    0.0   \n",
       "\n",
       "   Workclass_Local-gov  Workclass_Private  Workclass_Self-emp-inc  \\\n",
       "0                  0.0                0.0                     0.0   \n",
       "1                  0.0                0.0                     0.0   \n",
       "2                  0.0                1.0                     0.0   \n",
       "3                  0.0                1.0                     0.0   \n",
       "4                  0.0                1.0                     0.0   \n",
       "\n",
       "   Workclass_Self-emp-not-inc  Workclass_State-gov  Workclass_Without-pay  \\\n",
       "0                         0.0                  1.0                    0.0   \n",
       "1                         1.0                  0.0                    0.0   \n",
       "2                         0.0                  0.0                    0.0   \n",
       "3                         0.0                  0.0                    0.0   \n",
       "4                         0.0                  0.0                    0.0   \n",
       "\n",
       "   ...  Gender_Male  Hours-per-week_between_40_and_45  \\\n",
       "0  ...          1.0                               1.0   \n",
       "1  ...          1.0                               0.0   \n",
       "2  ...          1.0                               1.0   \n",
       "3  ...          1.0                               1.0   \n",
       "4  ...          0.0                               1.0   \n",
       "\n",
       "   Hours-per-week_between_45_and_60  Hours-per-week_between_60_and_80  \\\n",
       "0                               0.0                               0.0   \n",
       "1                               0.0                               0.0   \n",
       "2                               0.0                               0.0   \n",
       "3                               0.0                               0.0   \n",
       "4                               0.0                               0.0   \n",
       "\n",
       "   Hours-per-week_less_than_40  Hours-per-week_more_than_80  \\\n",
       "0                          0.0                          0.0   \n",
       "1                          1.0                          0.0   \n",
       "2                          0.0                          0.0   \n",
       "3                          0.0                          0.0   \n",
       "4                          0.0                          0.0   \n",
       "\n",
       "   Native_region_America_without_USA  Native_region_Asia  \\\n",
       "0                                0.0                 0.0   \n",
       "1                                0.0                 0.0   \n",
       "2                                0.0                 0.0   \n",
       "3                                0.0                 0.0   \n",
       "4                                1.0                 0.0   \n",
       "\n",
       "   Native_region_Europe  Native_region_United-States  \n",
       "0                   0.0                          1.0  \n",
       "1                   0.0                          1.0  \n",
       "2                   0.0                          1.0  \n",
       "3                   0.0                          1.0  \n",
       "4                   0.0                          0.0  \n",
       "\n",
       "[5 rows x 69 columns]"
      ]
     },
     "execution_count": 28,
     "metadata": {},
     "output_type": "execute_result"
    }
   ],
   "source": [
    "num_col =  features.dtypes[features.dtypes!='object'].index.tolist()\n",
    "num_feats_df = features[num_col].reset_index()\n",
    "# Concatenate numerical and encoded categorical features together\n",
    "X = pd.merge(num_feats_df, encoded_cat_feats_df, left_index=True, right_index=True).drop('index', axis=1)\n",
    "# Encode the 'income_raw' to numerical values\n",
    "y = income.apply(lambda x: 1 if x == '>50K' else 0)\n",
    "print(\"{} total features after one-hot encoding.\".format(len(X.columns)))\n",
    "# Display several rows of processed dataframe\n",
    "X.head()"
   ]
  },
  {
   "cell_type": "code",
   "execution_count": 29,
   "metadata": {},
   "outputs": [
    {
     "name": "stderr",
     "output_type": "stream",
     "text": [
      "D:\\python\\envs\\deeplearning\\lib\\site-packages\\ipykernel_launcher.py:2: FutureWarning: The signature of `Series.to_csv` was aligned to that of `DataFrame.to_csv`, and argument 'header' will change its default value from False to True: please pass an explicit value to suppress this warning.\n",
      "  \n"
     ]
    }
   ],
   "source": [
    "X.to_csv(\"data_preprocessing.csv\",index = False)\n",
    "y.to_csv(\"label.csv\",index = False)"
   ]
  },
  {
   "cell_type": "code",
   "execution_count": null,
   "metadata": {},
   "outputs": [],
   "source": []
  }
 ],
 "metadata": {
  "kernelspec": {
   "display_name": "Python 3",
   "language": "python",
   "name": "python3"
  },
  "language_info": {
   "codemirror_mode": {
    "name": "ipython",
    "version": 3
   },
   "file_extension": ".py",
   "mimetype": "text/x-python",
   "name": "python",
   "nbconvert_exporter": "python",
   "pygments_lexer": "ipython3",
   "version": "3.6.9"
  }
 },
 "nbformat": 4,
 "nbformat_minor": 2
}
